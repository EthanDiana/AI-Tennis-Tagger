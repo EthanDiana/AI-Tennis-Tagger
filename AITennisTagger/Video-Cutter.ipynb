{
 "cells": [
  {
   "cell_type": "code",
   "execution_count": 1,
   "id": "66bd6023",
   "metadata": {},
   "outputs": [],
   "source": [
    "# Change Speed\n",
    "\n",
    " # # Import everything needed to edit video clips \n",
    "# from moviepy.editor import *\n",
    "#    # Replace 'input.mp4' and 'output.mp4' with your input and output file paths\n",
    "# input_file = 'Govind Nanda UCLA vs. Tyler Zink Oklahoma State 1_30_24.mp4'\n",
    "# output_file = 'Govind Nanda UCLA vs. Tyler Zink Oklahoma State 1_30_24 half speed.mp4'\n",
    "\n",
    "# # loading video dsa gfg intro video \n",
    "# clip = VideoFileClip(input_file) \n",
    "\n",
    "   \n",
    "# # applying speed effect \n",
    "# final = clip.fx( vfx.speedx, 0.5) \n",
    "  \n",
    "# final.write_videofile(output_file)\n"
   ]
  },
  {
   "cell_type": "code",
   "execution_count": null,
   "id": "101564d7",
   "metadata": {},
   "outputs": [],
   "source": []
  },
  {
   "cell_type": "code",
   "execution_count": 2,
   "id": "1da253fe-809c-4af0-b36d-3e1cd0ec0d48",
   "metadata": {},
   "outputs": [
    {
     "name": "stdout",
     "output_type": "stream",
     "text": [
      "Requirement already satisfied: moviepy in /Users/leonardocardozo/anaconda3/envs/m148/lib/python3.11/site-packages (1.0.3)\n",
      "Requirement already satisfied: decorator<5.0,>=4.0.2 in /Users/leonardocardozo/anaconda3/envs/m148/lib/python3.11/site-packages (from moviepy) (4.4.2)\n",
      "Requirement already satisfied: tqdm<5.0,>=4.11.2 in /Users/leonardocardozo/anaconda3/envs/m148/lib/python3.11/site-packages (from moviepy) (4.66.1)\n",
      "Requirement already satisfied: requests<3.0,>=2.8.1 in /Users/leonardocardozo/anaconda3/envs/m148/lib/python3.11/site-packages (from moviepy) (2.31.0)\n",
      "Requirement already satisfied: proglog<=1.0.0 in /Users/leonardocardozo/anaconda3/envs/m148/lib/python3.11/site-packages (from moviepy) (0.1.10)\n",
      "Requirement already satisfied: numpy>=1.17.3 in /Users/leonardocardozo/anaconda3/envs/m148/lib/python3.11/site-packages (from moviepy) (1.26.3)\n",
      "Requirement already satisfied: imageio<3.0,>=2.5 in /Users/leonardocardozo/anaconda3/envs/m148/lib/python3.11/site-packages (from moviepy) (2.33.1)\n",
      "Requirement already satisfied: imageio-ffmpeg>=0.2.0 in /Users/leonardocardozo/anaconda3/envs/m148/lib/python3.11/site-packages (from moviepy) (0.4.9)\n",
      "Requirement already satisfied: pillow>=8.3.2 in /Users/leonardocardozo/anaconda3/envs/m148/lib/python3.11/site-packages (from imageio<3.0,>=2.5->moviepy) (10.2.0)\n",
      "Requirement already satisfied: setuptools in /Users/leonardocardozo/anaconda3/envs/m148/lib/python3.11/site-packages (from imageio-ffmpeg>=0.2.0->moviepy) (68.2.2)\n",
      "Requirement already satisfied: charset-normalizer<4,>=2 in /Users/leonardocardozo/anaconda3/envs/m148/lib/python3.11/site-packages (from requests<3.0,>=2.8.1->moviepy) (2.0.4)\n",
      "Requirement already satisfied: idna<4,>=2.5 in /Users/leonardocardozo/anaconda3/envs/m148/lib/python3.11/site-packages (from requests<3.0,>=2.8.1->moviepy) (3.4)\n",
      "Requirement already satisfied: urllib3<3,>=1.21.1 in /Users/leonardocardozo/anaconda3/envs/m148/lib/python3.11/site-packages (from requests<3.0,>=2.8.1->moviepy) (1.26.18)\n",
      "Requirement already satisfied: certifi>=2017.4.17 in /Users/leonardocardozo/anaconda3/envs/m148/lib/python3.11/site-packages (from requests<3.0,>=2.8.1->moviepy) (2024.2.2)\n",
      "Note: you may need to restart the kernel to use updated packages.\n"
     ]
    }
   ],
   "source": [
    "pip install moviepy\n"
   ]
  },
  {
   "cell_type": "code",
   "execution_count": 1,
   "id": "7c1920e5-24b1-420d-b0f3-3f34f70ff900",
   "metadata": {},
   "outputs": [
    {
     "name": "stdout",
     "output_type": "stream",
     "text": [
      "Moviepy - Running:\n",
      ">>> \"+ \" \".join(cmd)\n",
      "Moviepy - Command successful\n"
     ]
    }
   ],
   "source": [
    "\n",
    "from moviepy.video.io.ffmpeg_tools import ffmpeg_extract_subclip\n",
    "\n",
    "def cut_video(input_file, output_file, start_time, end_time):\n",
    "    ffmpeg_extract_subclip(input_file, start_time, end_time, targetname=output_file)\n",
    "\n",
    "# Example usage:\n",
    "cut_video(\"Court106___10-05-2024___11-50-16___15-15-55__000__2L_1L_192.168.180.89__b0f21721.mp4\", \"AhmaniTexas.mp4\", 1*60*60 + 18*60 + 19, 3*60*60 + 10 * 60 + 13)\n"
   ]
  },
  {
   "cell_type": "code",
   "execution_count": null,
   "id": "e125316a-fb50-4997-a571-7e909f6b189c",
   "metadata": {},
   "outputs": [],
   "source": []
  }
 ],
 "metadata": {
  "kernelspec": {
   "display_name": "Python 3.11.7 ('m148')",
   "language": "python",
   "name": "python3"
  },
  "language_info": {
   "codemirror_mode": {
    "name": "ipython",
    "version": 3
   },
   "file_extension": ".py",
   "mimetype": "text/x-python",
   "name": "python",
   "nbconvert_exporter": "python",
   "pygments_lexer": "ipython3",
   "version": "3.11.7"
  },
  "vscode": {
   "interpreter": {
    "hash": "a2720be4e965180de30c1a654acfdd0c1b9dd1ebbf99285d20051f30c1cfe82a"
   }
  }
 },
 "nbformat": 4,
 "nbformat_minor": 5
}
